{
 "cells": [
  {
   "cell_type": "markdown",
   "metadata": {},
   "source": [
    "# MSIS Dashboard in Santa Clara University\n",
    "\n",
    "Lab session - 6\n",
    "\n",
    "Tried exploring and extracting data from different websites to come up with a dashboard for MSIS in SCU\n",
    "\n",
    "Data Source :\n",
    "\n",
    "https://www.payscale.com/research/US/Degree=Master_of_Information_Science_(MIS)/Salary\n",
    "\n",
    "https://www.google.com/url?q=https%3A%2F%2Fpatch.com%2Fcalifornia%2Fredwoodcity-woodside%2Flist-top-colleges-california-according-latest-forbes-ranking&sa=D&sntz=1&usg=AFQjCNFcJ0uXy-KB5ky7nPh_MHN0eY9T_w\n",
    "\n",
    "https://www.google.com/url?q=https%3A%2F%2Fwww.niche.com%2Fcolleges%2Fsanta-clara-university%2F&sa=D&sntz=1&usg=AFQjCNE2pT24DB09TxD4Jr7OOrlkUNHFsA"
   ]
  },
  {
   "cell_type": "markdown",
   "metadata": {},
   "source": [
    "### Imported the required libraries"
   ]
  },
  {
   "cell_type": "code",
   "execution_count": 71,
   "metadata": {
    "collapsed": true
   },
   "outputs": [],
   "source": [
    "from bs4 import BeautifulSoup\n",
    "import pandas as pd\n",
    "import numpy as np\n",
    "pd.set_option('max_columns', 120)\n",
    "pd.set_option('max_colwidth', 5000)\n",
    "pd.set_option('max_rows', 300)\n",
    "import pandas as pd\n",
    "import numpy as nm\n",
    "import matplotlib as mp\n",
    "%matplotlib inline\n",
    "import matplotlib.pyplot as plt\n",
    "from ipywidgets import interact\n",
    "import seaborn as sns\n",
    "import pandas_datareader as pdr\n",
    "from pandas_datareader.data import Options\n",
    "import datetime as dt\n",
    "import requests\n",
    "import json\n",
    "import urllib"
   ]
  },
  {
   "cell_type": "markdown",
   "metadata": {},
   "source": [
    "### Tried getting data from SCU msis website using Beautiful Soup"
   ]
  },
  {
   "cell_type": "code",
   "execution_count": 76,
   "metadata": {
    "collapsed": true
   },
   "outputs": [],
   "source": [
    "response = requests.get(\"https://www.scu.edu/business/ms-information-systems/prospective-students/class-profile/\")\n",
    "html = response.content\n",
    "soup = BeautifulSoup(html, 'html.parser')\n",
    "#soup.prettify(formatter=lambda s: s.replace(u'\\xa0', ' '))\n",
    "#print (soup.prettify())"
   ]
  },
  {
   "cell_type": "markdown",
   "metadata": {},
   "source": [
    "### Tried fetching the ranks of universities in United States"
   ]
  },
  {
   "cell_type": "code",
   "execution_count": 77,
   "metadata": {
    "collapsed": true
   },
   "outputs": [],
   "source": [
    "response5 = requests.get(\"https://patch.com/california/redwoodcity-woodside/list-top-colleges-california-according-latest-forbes-ranking\")\n",
    "html = response5.content\n",
    "soup = BeautifulSoup(html, 'html.parser')\n",
    "#soup.prettify(formatter=lambda s: s.replace(u'\\xa0', ' '))\n",
    "#print (soup.prettify())"
   ]
  },
  {
   "cell_type": "code",
   "execution_count": 26,
   "metadata": {
    "collapsed": true
   },
   "outputs": [],
   "source": [
    "ranks = soup.find_all(\"div\", {\"class\":\"content-body center-block\"})"
   ]
  },
  {
   "cell_type": "markdown",
   "metadata": {},
   "source": [
    "### printed text from the messy data"
   ]
  },
  {
   "cell_type": "code",
   "execution_count": 27,
   "metadata": {},
   "outputs": [
    {
     "name": "stdout",
     "output_type": "stream",
     "text": [
      "\n",
      "California. The land of amazing weather, beautiful beaches... and a quality education. With an acceptance rate of only 5 percent, The Golden State's Stanford University stands out as the top college in the nation for 2016, according to Forbes' latest rankings, out this week.  \"The university has produced an impressive number of leaders in government, including U.S. president Herbert Hoover and four U.S. Supreme Court justices, as well as entrepreneurs and billionaires: among them Sergey Brin and Larry Page, Steve Ballmer, Instagram founder Kevin Systrom, and SnapChat cofounders Evan Spiegel and Bobby Murphy,\" Forbes writes of the university. \"The university has seven schools and is renowned for its STEM, business and law programs.\"This sort of education doesn't come cheap, though. An average year at Stanford will cost you $64,477.In the southern portion of the state, Pomona College in Claremont was ranked number 7 in the nation. The admittance rate is a little higher there, at 12 percent, and the total cost is $64870. Besides Stanford, ten additional California schools made the top 100 in Forbes' 2016 college rankings. A total of 55 fell within the entire list, which included 660 schools nationwide.The rankings put an emphasis on return on investment and include both public and private institutions, according to Forbes. Here are the California schools that made the list, with their national ranking in parentheses: Stanford University (1)Pomona College (7)Claremont McKenna College (31)California Institute of Technology (39)University of California, Berkeley (40)University of California, Los Angeles (46)Harvey Mudd College (59)University of Southern California (65)Scripps College (83)Santa Clara University (88)Occidental College (99)University of California, Santa Barbara (114)University of California, San Diego (117)Pitzer College (123)University of California, Davis (125)Pepperdine University (130)Loyola Marymount University (150)Westmont College (158)University of California, Irvine (162)California Polytechnic State University, San Luis Obispo (167)University of Redlands (194)University of California, Santa Cruz (200)University of San Diego (211)University of San Francisco (231)Saint Mary's College of California (232)San Diego State University (242)Thomas Aquinas College (251)University of California, Riverside (269)California State Polytechnic University, Pomona (301)California State University, Long Beach (309)San Jose State University (315)University of the Pacific (CA) (316)Chapman University (319)California Lutheran University (334)Whittier College (344)California State University, Fullerton (351)Biola University (359)Master's College and Seminary (361)California State University, Los Angeles (373)San Francisco State University (374)Mills College (376)California State University, Chico (384)Azusa Pacific University (391)California State University, Fresno (396)Mount Saint Mary's University (CA) (421) California State University, Sacramento (429)California State University, San Bernardino (433)Sonoma State University (443)California State University, Northridge (459)University of La Verne (463)California State University, East Bay (465)California State University, Stanislaus (475)California State University Maritime Academy (516)Humboldt State University (538)Vanguard University (591)  See the full list of California colleges here  Forbes used data from the Department of Education, along with payscale.com and the America's Leaders List to compile the rankings on the top 660 schools. They rated each school on post-graduate success, student debt, student satisfaction, graduation rate and academic success.  Read Forbes' full methodology here  The top 10 schools nationwide were: Stanford UniversityWilliams CollegePrinceton UniversityHarvard UniversityMassachusetts Institute of TechnologyYale UniversityPomona CollegeBrown UniversityWesleyan UniversitySwarthmore College See the full national rankings here Image courtesy of Stanford University. Subscribe to the Redwood City-Woodside newsletter \n"
     ]
    }
   ],
   "source": [
    "for i in ranks:\n",
    "    print(i.text)"
   ]
  },
  {
   "cell_type": "markdown",
   "metadata": {},
   "source": [
    "### tried extracting few other aspects like acceptance rate, student to faculty ratio, ranks etc. from websites of 6 other universities that offer MSIS in California"
   ]
  },
  {
   "cell_type": "code",
   "execution_count": 78,
   "metadata": {
    "collapsed": true
   },
   "outputs": [],
   "source": [
    "response6 = requests.get(\"https://www.forbes.com/colleges/santa-clara-university/\")\n",
    "html = response6.content\n",
    "soup = BeautifulSoup(html, 'html.parser')\n",
    "#soup.prettify(formatter=lambda s: s.replace(u'\\xa0', ' '))\n",
    "#print (soup.prettify())"
   ]
  },
  {
   "cell_type": "code",
   "execution_count": 29,
   "metadata": {
    "collapsed": true
   },
   "outputs": [],
   "source": [
    "data = soup.find_all(\"div\", {\"class\":\"ataglanz fleft\"})"
   ]
  },
  {
   "cell_type": "code",
   "execution_count": 30,
   "metadata": {},
   "outputs": [
    {
     "data": {
      "text/plain": [
       "[<div class=\"ataglanz fleft\">\\n<h6>At a Glance</h6>\\n<ul>\\n<li>Student Population: <b>8,680</b></li>\\n<li>Undergraduate Population: <b>5,385</b></li>\\n<li>Student to Faculty Ratio<sup>a</sup>: <b>12</b></li>\\n<li>Total Annual Cost<sup>c</sup>: <b>$63,666</b></li>\\n<li>In-State Tuition<sup>c</sup>: <b>$45,300</b></li>\\n<li>Out-of-State Tuition<sup>c</sup>: <b>$45,300</b></li>\\n<li>Percent on Financial Aid<sup>d</sup>: <b>72%</b></li>\\n<li>Average Grant Aid Received (FT/First-Time): <b>$22,303</b></li>\\n<li>Percent Admitted<sup>e</sup>: <b>49%</b></li>\\n<li>SAT Composite Range<sup>f</sup>: <b>1210-1400</b></li>\\n<li>ACT Composite Range<sup>f</sup>: <b>27-32</b></li>\\n</ul>\\n</div>]"
      ]
     },
     "execution_count": 30,
     "metadata": {},
     "output_type": "execute_result"
    }
   ],
   "source": [
    "data\n"
   ]
  },
  {
   "cell_type": "code",
   "execution_count": 31,
   "metadata": {},
   "outputs": [
    {
     "name": "stdout",
     "output_type": "stream",
     "text": [
      "\n",
      "At a Glance\n",
      "\n",
      "Student Population: 8,680\n",
      "Undergraduate Population: 5,385\n",
      "Student to Faculty Ratioa: 12\n",
      "Total Annual Costc: $63,666\n",
      "In-State Tuitionc: $45,300\n",
      "Out-of-State Tuitionc: $45,300\n",
      "Percent on Financial Aidd: 72%\n",
      "Average Grant Aid Received (FT/First-Time): $22,303\n",
      "Percent Admittede: 49%\n",
      "SAT Composite Rangef: 1210-1400\n",
      "ACT Composite Rangef: 27-32\n",
      "\n",
      "\n"
     ]
    }
   ],
   "source": [
    "for i in data:\n",
    "    print (i.text)"
   ]
  },
  {
   "cell_type": "code",
   "execution_count": 32,
   "metadata": {
    "collapsed": true
   },
   "outputs": [],
   "source": [
    "data1 = soup.find_all(\"div\", {\"class\":\"rankonlist\"})"
   ]
  },
  {
   "cell_type": "code",
   "execution_count": 36,
   "metadata": {},
   "outputs": [
    {
     "name": "stdout",
     "output_type": "stream",
     "text": [
      "#64 Top Colleges\n",
      "#63 America's Best Value Colleges\n"
     ]
    }
   ],
   "source": [
    "for i in data1:\n",
    "    print (i.text)"
   ]
  },
  {
   "cell_type": "code",
   "execution_count": 79,
   "metadata": {
    "collapsed": true
   },
   "outputs": [],
   "source": [
    "response6 = requests.get(\"https://www.forbes.com/colleges/california-state-university-east-bay/\")\n",
    "html = response6.content\n",
    "soup = BeautifulSoup(html, 'html.parser')\n",
    "#soup.prettify(formatter=lambda s: s.replace(u'\\xa0', ' '))\n",
    "#print (soup.prettify())"
   ]
  },
  {
   "cell_type": "code",
   "execution_count": 38,
   "metadata": {
    "collapsed": true
   },
   "outputs": [],
   "source": [
    "csu_eastbay = soup.find_all(\"div\", {\"class\":\"ataglanz fleft\"})"
   ]
  },
  {
   "cell_type": "code",
   "execution_count": 39,
   "metadata": {},
   "outputs": [
    {
     "name": "stdout",
     "output_type": "stream",
     "text": [
      "\n",
      "At a Glance\n",
      "\n",
      "Student Population: 15,528\n",
      "Undergraduate Population: 13,058\n",
      "Student to Faculty Ratioa: 27\n",
      "Total Annual Costc: $34,647\n",
      "In-State Tuitionc: $6,564\n",
      "Out-of-State Tuitionc: $17,724\n",
      "Percent on Financial Aidd: 78%\n",
      "Average Grant Aid Received (FT/First-Time): $5,328\n",
      "Percent Admittede: 74%\n",
      "\n",
      "\n"
     ]
    }
   ],
   "source": [
    "for i in csu_eastbay:\n",
    "    print (i.text)"
   ]
  },
  {
   "cell_type": "code",
   "execution_count": 40,
   "metadata": {
    "collapsed": true
   },
   "outputs": [],
   "source": [
    "csu_eastbay1 = soup.find_all(\"div\", {\"class\":\"rankonlist\"})"
   ]
  },
  {
   "cell_type": "code",
   "execution_count": 41,
   "metadata": {},
   "outputs": [
    {
     "data": {
      "text/plain": [
       "[<div class=\"rankonlist\">#455 <a href=\"/top-colleges/list/\">Top Colleges</a></div>,\n",
       " <div class=\"rankonlist\">#240 <a href=\"/value-colleges/\">America's Best Value Colleges</a></div>]"
      ]
     },
     "execution_count": 41,
     "metadata": {},
     "output_type": "execute_result"
    }
   ],
   "source": [
    "csu_eastbay1"
   ]
  },
  {
   "cell_type": "code",
   "execution_count": 42,
   "metadata": {},
   "outputs": [
    {
     "name": "stdout",
     "output_type": "stream",
     "text": [
      "#455 Top Colleges\n",
      "#240 America's Best Value Colleges\n"
     ]
    }
   ],
   "source": [
    "for i in csu_eastbay1:\n",
    "    print(i.text)"
   ]
  },
  {
   "cell_type": "code",
   "execution_count": 43,
   "metadata": {
    "collapsed": true
   },
   "outputs": [],
   "source": [
    "response6 = requests.get(\"https://www.forbes.com/colleges/san-jose-state-university/\")\n",
    "html = response6.content\n",
    "soup = BeautifulSoup(html, 'html.parser')\n"
   ]
  },
  {
   "cell_type": "code",
   "execution_count": 44,
   "metadata": {
    "collapsed": true
   },
   "outputs": [],
   "source": [
    "sanjose = soup.find_all(\"div\", {\"class\":\"ataglanz fleft\"})"
   ]
  },
  {
   "cell_type": "code",
   "execution_count": 45,
   "metadata": {},
   "outputs": [
    {
     "name": "stdout",
     "output_type": "stream",
     "text": [
      "\n",
      "At a Glance\n",
      "\n",
      "Student Population: 32,773\n",
      "Undergraduate Population: 26,822\n",
      "Student to Faculty Ratioa: 27\n",
      "Total Annual Costc: $37,387\n",
      "In-State Tuitionc: $7,378\n",
      "Out-of-State Tuitionc: $18,538\n",
      "Percent on Financial Aidd: 76%\n",
      "Average Grant Aid Received (FT/First-Time): $5,378\n",
      "Percent Admittede: 55%\n",
      "SAT Composite Rangef: 920-1180\n",
      "ACT Composite Rangef: 20-26\n",
      "\n",
      "\n"
     ]
    }
   ],
   "source": [
    "for i in sanjose:\n",
    "    print (i.text)"
   ]
  },
  {
   "cell_type": "code",
   "execution_count": 46,
   "metadata": {},
   "outputs": [
    {
     "name": "stdout",
     "output_type": "stream",
     "text": [
      "#319 Top Colleges\n",
      "#140 America's Best Value Colleges\n"
     ]
    }
   ],
   "source": [
    "sanjose1 = soup.find_all(\"div\", {\"class\":\"rankonlist\"})\n",
    "for i in sanjose1:\n",
    "    print(i.text)"
   ]
  },
  {
   "cell_type": "code",
   "execution_count": 47,
   "metadata": {},
   "outputs": [
    {
     "name": "stdout",
     "output_type": "stream",
     "text": [
      "\n",
      "At a Glance\n",
      "\n",
      "Student Population: 35,186\n",
      "Undergraduate Population: 28,257\n",
      "Student to Faculty Ratioa: 18\n",
      "Total Annual Costc: $59,085\n",
      "In-State Tuitionc: $13,951\n",
      "Out-of-State Tuitionc: $38,659\n",
      "Percent on Financial Aidd: 76%\n",
      "Average Grant Aid Received (FT/First-Time): $8,138\n",
      "Percent Admittede: 38%\n",
      "SAT Composite Rangef: 1070-1340\n",
      "ACT Composite Rangef: 25-31\n",
      "\n",
      "\n"
     ]
    }
   ],
   "source": [
    "response6 = requests.get(\"https://www.forbes.com/colleges/university-of-california-davis/\")\n",
    "html = response6.content\n",
    "soup = BeautifulSoup(html, 'html.parser')\n",
    "ucdavis = soup.find_all(\"div\", {\"class\":\"ataglanz fleft\"})\n",
    "for i in ucdavis:\n",
    "    print (i.text)"
   ]
  },
  {
   "cell_type": "code",
   "execution_count": 49,
   "metadata": {},
   "outputs": [
    {
     "name": "stdout",
     "output_type": "stream",
     "text": [
      "#102 Top Colleges\n",
      "#9 America's Best Value Colleges\n",
      "#86 America's Best Employers\n"
     ]
    }
   ],
   "source": [
    "ucdavis1 = soup.find_all(\"div\", {\"class\":\"rankonlist\"})\n",
    "for i in ucdavis1:\n",
    "    print(i.text)"
   ]
  },
  {
   "cell_type": "code",
   "execution_count": 50,
   "metadata": {},
   "outputs": [
    {
     "name": "stdout",
     "output_type": "stream",
     "text": [
      "\n",
      "At a Glance\n",
      "\n",
      "Student Population: 21,385\n",
      "Undergraduate Population: 18,607\n",
      "Student to Faculty Ratioa: 19\n",
      "Total Annual Costc: $58,193\n",
      "In-State Tuitionc: $13,527\n",
      "Out-of-State Tuitionc: $38,235\n",
      "Percent on Financial Aidd: 91%\n",
      "Average Grant Aid Received (FT/First-Time): $9,023\n",
      "Percent Admittede: 56%\n",
      "SAT Composite Rangef: 980-1210\n",
      "ACT Composite Rangef: 23-28\n",
      "\n",
      "\n"
     ]
    }
   ],
   "source": [
    "response6 = requests.get(\"https://www.forbes.com/colleges/university-of-california-riverside/\")\n",
    "html = response6.content\n",
    "soup = BeautifulSoup(html, 'html.parser')\n",
    "ucriverside = soup.find_all(\"div\", {\"class\":\"ataglanz fleft\"})\n",
    "for i in ucriverside:\n",
    "    print (i.text)"
   ]
  },
  {
   "cell_type": "code",
   "execution_count": 51,
   "metadata": {},
   "outputs": [
    {
     "name": "stdout",
     "output_type": "stream",
     "text": [
      "#259 Top Colleges\n",
      "#107 America's Best Value Colleges\n"
     ]
    }
   ],
   "source": [
    "ucriverside1 = soup.find_all(\"div\", {\"class\":\"rankonlist\"})\n",
    "for i in ucriverside1:\n",
    "    print(i.text)"
   ]
  },
  {
   "cell_type": "code",
   "execution_count": 52,
   "metadata": {},
   "outputs": [
    {
     "name": "stdout",
     "output_type": "stream",
     "text": [
      "\n",
      "At a Glance\n",
      "\n",
      "Student Population: 17,868\n",
      "Undergraduate Population: 16,231\n",
      "Student to Faculty Ratioa: 18\n",
      "Total Annual Costc: $59,472\n",
      "In-State Tuitionc: $13,461\n",
      "Out-of-State Tuitionc: $38,169\n",
      "Percent on Financial Aidd: 82%\n",
      "Average Grant Aid Received (FT/First-Time): $8,256\n",
      "Percent Admittede: 50%\n",
      "SAT Composite Rangef: 1050-1300\n",
      "ACT Composite Rangef: 25-30\n",
      "\n",
      "\n"
     ]
    }
   ],
   "source": [
    "response6 = requests.get(\"https://www.forbes.com/colleges/university-of-california-santa-cruz/\")\n",
    "html = response6.content\n",
    "soup = BeautifulSoup(html, 'html.parser')\n",
    "ucsantacruz = soup.find_all(\"div\", {\"class\":\"ataglanz fleft\"})\n",
    "for i in ucsantacruz:\n",
    "    print (i.text)"
   ]
  },
  {
   "cell_type": "code",
   "execution_count": 53,
   "metadata": {},
   "outputs": [
    {
     "name": "stdout",
     "output_type": "stream",
     "text": [
      "#210 Top Colleges\n",
      "#97 America's Best Value Colleges\n"
     ]
    }
   ],
   "source": [
    "ucsantacruz1 = soup.find_all(\"div\", {\"class\":\"rankonlist\"})\n",
    "for i in ucsantacruz1:\n",
    "    print(i.text)"
   ]
  },
  {
   "cell_type": "code",
   "execution_count": 54,
   "metadata": {},
   "outputs": [
    {
     "name": "stdout",
     "output_type": "stream",
     "text": [
      "\n",
      "At a Glance\n",
      "\n",
      "Student Population: 38,948\n",
      "Undergraduate Population: 33,144\n",
      "Student to Faculty Ratioa: 25\n",
      "Total Annual Costc: $36,803\n",
      "In-State Tuitionc: $6,437\n",
      "Out-of-State Tuitionc: $17,597\n",
      "Percent on Financial Aidd: 75%\n",
      "Average Grant Aid Received (FT/First-Time): $5,373\n",
      "Percent Admittede: 42%\n",
      "SAT Composite Rangef: 930-1130\n",
      "ACT Composite Rangef: 19-24\n",
      "\n",
      "\n"
     ]
    }
   ],
   "source": [
    "response6 = requests.get(\"https://www.forbes.com/colleges/california-state-university-fullerton/\")\n",
    "html = response6.content\n",
    "soup = BeautifulSoup(html, 'html.parser')\n",
    "csufullerton = soup.find_all(\"div\", {\"class\":\"ataglanz fleft\"})\n",
    "for i in csufullerton:\n",
    "    print (i.text)"
   ]
  },
  {
   "cell_type": "code",
   "execution_count": 55,
   "metadata": {},
   "outputs": [
    {
     "name": "stdout",
     "output_type": "stream",
     "text": [
      "#363 Top Colleges\n",
      "#190 America's Best Value Colleges\n"
     ]
    }
   ],
   "source": [
    "csufullerton1 = soup.find_all(\"div\", {\"class\":\"rankonlist\"})\n",
    "for i in csufullerton1:\n",
    "    print(i.text)"
   ]
  },
  {
   "cell_type": "code",
   "execution_count": 56,
   "metadata": {},
   "outputs": [
    {
     "name": "stdout",
     "output_type": "stream",
     "text": [
      "\n",
      "At a Glance\n",
      "\n",
      "Student Population: 27,680\n",
      "Undergraduate Population: 23,458\n",
      "Student to Faculty Ratioa: 28\n",
      "Total Annual Costc: $34,981\n",
      "In-State Tuitionc: $6,355\n",
      "Out-of-State Tuitionc: $17,515\n",
      "Percent on Financial Aidd: 87%\n",
      "Average Grant Aid Received (FT/First-Time): $5,300\n",
      "Percent Admittede: 68%\n",
      "SAT Composite Rangef: 780-990\n",
      "ACT Composite Rangef: 15-20\n",
      "\n",
      "\n"
     ]
    }
   ],
   "source": [
    "response6 = requests.get(\"https://www.forbes.com/colleges/california-state-university-los-angeles/\")\n",
    "html = response6.content\n",
    "soup = BeautifulSoup(html, 'html.parser')\n",
    "csula = soup.find_all(\"div\", {\"class\":\"ataglanz fleft\"})\n",
    "for i in csula:\n",
    "    print (i.text)"
   ]
  },
  {
   "cell_type": "code",
   "execution_count": 57,
   "metadata": {},
   "outputs": [
    {
     "name": "stdout",
     "output_type": "stream",
     "text": [
      "#521 Top Colleges\n",
      "#266 America's Best Value Colleges\n"
     ]
    }
   ],
   "source": [
    "csula1 = soup.find_all(\"div\", {\"class\":\"rankonlist\"})\n",
    "for i in csula1:\n",
    "    print(i.text)"
   ]
  },
  {
   "cell_type": "markdown",
   "metadata": {},
   "source": [
    "### I Found a website which explains the different domains which you can pursue afer MSIS and the salary ranges of each. So, I thought of extracting that and making a graph out of it for recruiters"
   ]
  },
  {
   "cell_type": "code",
   "execution_count": 58,
   "metadata": {},
   "outputs": [
    {
     "name": "stdout",
     "output_type": "stream",
     "text": [
      "JobAverageMinMaxSoftware Engineer111 profiles$86,916$65K$122KData Analyst83 profiles$63,839$46K$82KBusiness Analyst, IT69 profiles$67,970$51K$86KGet a personalized salary report!Location:Years in Field/Career:Years in Field/Career:United States (change)Information Technology (IT) Manager67 profiles$100,541$65K$131KProject Manager, Information Technology (IT)54 profiles$90,546$64K$119KSoftware Developer47 profiles$72,474$58K$104KInformation Technology (IT) Director46 profiles$118,960$73K$171KSee all employers for Master of Information Science (MIS) »See all employers for Master of Information Science (MIS) »Currency: USDUpdated: 11 Oct 2017Individuals Reporting: 2,485View Table\n"
     ]
    }
   ],
   "source": [
    "response3 = requests.get(\"https://www.payscale.com/research/US/Degree=Master_of_Information_Science_(MIS)/Salary\")\n",
    "html3 = response3.content\n",
    "soup = BeautifulSoup(html3, 'html.parser')\n",
    "soup.prettify(formatter=lambda s: s.replace(u'\\xa0', ' '))\n",
    "#print (soup.prettify())\n",
    "pay = soup.find_all(\"div\", {\"class\":\"bar-chart-bootstrap\"})\n",
    "for i in pay:\n",
    "    print(i.text)"
   ]
  },
  {
   "cell_type": "code",
   "execution_count": 60,
   "metadata": {},
   "outputs": [
    {
     "name": "stdout",
     "output_type": "stream",
     "text": [
      "\n",
      "Software Engineer111 profiles\n",
      "$86,916\n",
      "$65K$122K\n",
      "\n",
      "Data Analyst83 profiles\n",
      "$63,839\n",
      "$46K$82K\n",
      "\n",
      "Business Analyst, IT69 profiles\n",
      "$67,970\n",
      "$51K$86K\n",
      "\n",
      "Get a personalized salary report!Location:Years in Field/Career:Years in Field/Career:United States (change)\n",
      "\n",
      "Information Technology (IT) Manager67 profiles\n",
      "$100,541\n",
      "$65K$131K\n",
      "\n",
      "Project Manager, Information Technology (IT)54 profiles\n",
      "$90,546\n",
      "$64K$119K\n",
      "\n",
      "Software Developer47 profiles\n",
      "$72,474\n",
      "$58K$104K\n",
      "\n",
      "Information Technology (IT) Director46 profiles\n",
      "$118,960\n",
      "$73K$171K\n",
      "\n",
      "See all employers for Master of Information Science (MIS) »\n",
      "See all employers for Master of Information Science (MIS) »\n",
      "Currency: USDUpdated: 11 Oct 2017Individuals Reporting: 2,485View Table\n"
     ]
    }
   ],
   "source": [
    "for mytable in pay:\n",
    "    table_body = mytable.find('tbody')\n",
    "    try:\n",
    "        rows = table_body.find_all('tr')\n",
    "        for tr in rows:\n",
    "            cols = tr.find_all('td')\n",
    "            for td in cols:\n",
    "                print(td.text)\n",
    "    except:\n",
    "        print(\"no tbody\")"
   ]
  },
  {
   "cell_type": "markdown",
   "metadata": {},
   "source": [
    "## MVP that i had in mind for the dashboard"
   ]
  },
  {
   "cell_type": "code",
   "execution_count": 62,
   "metadata": {
    "scrolled": true
   },
   "outputs": [
    {
     "data": {
      "image/png": "[encoded data removed]",
      "text/plain": [
       "<IPython.core.display.Image object>"
      ]
     },
     "execution_count": 62,
     "metadata": {},
     "output_type": "execute_result"
    }
   ],
   "source": [
    "from IPython.display import Image\n",
    "Image(\"alumni_scu.png\")"
   ]
  }
 ],
 "metadata": {
  "kernelspec": {
   "display_name": "Python 2",
   "language": "python",
   "name": "python2"
  },
  "language_info": {
   "codemirror_mode": {
    "name": "ipython",
    "version": 2
   },
   "file_extension": ".py",
   "mimetype": "text/x-python",
   "name": "python",
   "nbconvert_exporter": "python",
   "pygments_lexer": "ipython2",
   "version": "2.7.13"
  }
 },
 "nbformat": 4,
 "nbformat_minor": 2
}
