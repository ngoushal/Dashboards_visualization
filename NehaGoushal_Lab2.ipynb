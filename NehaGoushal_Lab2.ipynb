{
 "cells": [
  {
   "cell_type": "code",
   "execution_count": 1,
   "metadata": {
    "collapsed": true
   },
   "outputs": [],
   "source": [
    "import pandas as pd\n"
   ]
  },
  {
   "cell_type": "code",
   "execution_count": 3,
   "metadata": {},
   "outputs": [],
   "source": [
    "Data_2017 = pd.read_excel(\"final.xlsx\",sheetname=0)"
   ]
  },
  {
   "cell_type": "code",
   "execution_count": 4,
   "metadata": {},
   "outputs": [
    {
     "data": {
      "text/html": [
       "<div>\n",
       "<style>\n",
       "    .dataframe thead tr:only-child th {\n",
       "        text-align: right;\n",
       "    }\n",
       "\n",
       "    .dataframe thead th {\n",
       "        text-align: left;\n",
       "    }\n",
       "\n",
       "    .dataframe tbody tr th {\n",
       "        vertical-align: top;\n",
       "    }\n",
       "</style>\n",
       "<table border=\"1\" class=\"dataframe\">\n",
       "  <thead>\n",
       "    <tr style=\"text-align: right;\">\n",
       "      <th></th>\n",
       "      <th>Entity</th>\n",
       "      <th>alternative name</th>\n",
       "      <th>story</th>\n",
       "      <th>YEAR</th>\n",
       "      <th>records lost</th>\n",
       "      <th>ORGANISATION</th>\n",
       "      <th>METHOD OF LEAK</th>\n",
       "      <th>interesting story</th>\n",
       "      <th>NO OF RECORDS STOLEN</th>\n",
       "      <th>DATA SENSITIVITY</th>\n",
       "      <th>1st source link</th>\n",
       "      <th>2nd source link</th>\n",
       "      <th>3rd source</th>\n",
       "      <th>source name</th>\n",
       "    </tr>\n",
       "  </thead>\n",
       "  <tbody>\n",
       "    <tr>\n",
       "      <th>1</th>\n",
       "      <td>AOL</td>\n",
       "      <td>American Online</td>\n",
       "      <td>A former America Online software engineer stol...</td>\n",
       "      <td>2004</td>\n",
       "      <td>92000000.0</td>\n",
       "      <td>web</td>\n",
       "      <td>inside job</td>\n",
       "      <td>NaN</td>\n",
       "      <td>92000000</td>\n",
       "      <td>Just Email Addresses/Online Information</td>\n",
       "      <td>http://money.cnn.com/2004/06/23/technology/aol...</td>\n",
       "      <td>http://www.msnbc.msn.com/id/8985989/#.UFcN8RgUwaA</td>\n",
       "      <td>NaN</td>\n",
       "      <td>CNN</td>\n",
       "    </tr>\n",
       "    <tr>\n",
       "      <th>2</th>\n",
       "      <td>Automatic Data Processing</td>\n",
       "      <td>Business outsourcing, payrolls, benefits</td>\n",
       "      <td>NaN</td>\n",
       "      <td>2005</td>\n",
       "      <td>125000.0</td>\n",
       "      <td>financial</td>\n",
       "      <td>poor security</td>\n",
       "      <td>NaN</td>\n",
       "      <td>130000</td>\n",
       "      <td>SSN/Personal Details</td>\n",
       "      <td>http://abcnews.go.com/Technology/story?id=2160...</td>\n",
       "      <td>NaN</td>\n",
       "      <td>NaN</td>\n",
       "      <td>ABC</td>\n",
       "    </tr>\n",
       "    <tr>\n",
       "      <th>3</th>\n",
       "      <td>Ameritrade Inc.</td>\n",
       "      <td>Computer backup tape containing personal infor...</td>\n",
       "      <td>online broker</td>\n",
       "      <td>2005</td>\n",
       "      <td>200000.0</td>\n",
       "      <td>financial</td>\n",
       "      <td>lost / stolen device</td>\n",
       "      <td>NaN</td>\n",
       "      <td>200000</td>\n",
       "      <td>SSN/Personal Details</td>\n",
       "      <td>http://www.nbcnews.com/id/7561268/</td>\n",
       "      <td>NaN</td>\n",
       "      <td>NaN</td>\n",
       "      <td>NaN</td>\n",
       "    </tr>\n",
       "    <tr>\n",
       "      <th>4</th>\n",
       "      <td>Citigroup</td>\n",
       "      <td>NaN</td>\n",
       "      <td>Blame the messenger! A box of computer tapes c...</td>\n",
       "      <td>2005</td>\n",
       "      <td>3900000.0</td>\n",
       "      <td>financial</td>\n",
       "      <td>lost / stolen device</td>\n",
       "      <td>y</td>\n",
       "      <td>3900000</td>\n",
       "      <td>Credit card Information</td>\n",
       "      <td>http://www.nytimes.com/2005/06/07/business/07d...</td>\n",
       "      <td>NaN</td>\n",
       "      <td>NaN</td>\n",
       "      <td>NY Times</td>\n",
       "    </tr>\n",
       "    <tr>\n",
       "      <th>5</th>\n",
       "      <td>Cardsystems Solutions Inc.</td>\n",
       "      <td>Third-party payment processor for Visa, Master...</td>\n",
       "      <td>CardSystems was fingered by MasterCard after i...</td>\n",
       "      <td>2005</td>\n",
       "      <td>40000000.0</td>\n",
       "      <td>financial</td>\n",
       "      <td>hacked</td>\n",
       "      <td>y</td>\n",
       "      <td>40000000</td>\n",
       "      <td>Credit card Information</td>\n",
       "      <td>http://www.msnbc.msn.com/id/8260050/ns/technol...</td>\n",
       "      <td>NaN</td>\n",
       "      <td>NaN</td>\n",
       "      <td>MSNBC</td>\n",
       "    </tr>\n",
       "  </tbody>\n",
       "</table>\n",
       "</div>"
      ],
      "text/plain": [
       "                        Entity  \\\n",
       "1                          AOL   \n",
       "2    Automatic Data Processing   \n",
       "3              Ameritrade Inc.   \n",
       "4                    Citigroup   \n",
       "5  Cardsystems Solutions Inc.    \n",
       "\n",
       "                                    alternative name  \\\n",
       "1                                    American Online   \n",
       "2           Business outsourcing, payrolls, benefits   \n",
       "3  Computer backup tape containing personal infor...   \n",
       "4                                                NaN   \n",
       "5  Third-party payment processor for Visa, Master...   \n",
       "\n",
       "                                               story  YEAR  records lost  \\\n",
       "1  A former America Online software engineer stol...  2004    92000000.0   \n",
       "2                                                NaN  2005      125000.0   \n",
       "3                                      online broker  2005      200000.0   \n",
       "4  Blame the messenger! A box of computer tapes c...  2005     3900000.0   \n",
       "5  CardSystems was fingered by MasterCard after i...  2005    40000000.0   \n",
       "\n",
       "  ORGANISATION        METHOD OF LEAK interesting story  NO OF RECORDS STOLEN  \\\n",
       "1          web            inside job               NaN              92000000   \n",
       "2    financial         poor security               NaN                130000   \n",
       "3    financial  lost / stolen device               NaN                200000   \n",
       "4    financial  lost / stolen device                 y               3900000   \n",
       "5    financial                hacked                 y              40000000   \n",
       "\n",
       "                          DATA SENSITIVITY  \\\n",
       "1  Just Email Addresses/Online Information   \n",
       "2                     SSN/Personal Details   \n",
       "3                     SSN/Personal Details   \n",
       "4                  Credit card Information   \n",
       "5                  Credit card Information   \n",
       "\n",
       "                                     1st source link  \\\n",
       "1  http://money.cnn.com/2004/06/23/technology/aol...   \n",
       "2  http://abcnews.go.com/Technology/story?id=2160...   \n",
       "3                 http://www.nbcnews.com/id/7561268/   \n",
       "4  http://www.nytimes.com/2005/06/07/business/07d...   \n",
       "5  http://www.msnbc.msn.com/id/8260050/ns/technol...   \n",
       "\n",
       "                                     2nd source link 3rd source source name  \n",
       "1  http://www.msnbc.msn.com/id/8985989/#.UFcN8RgUwaA        NaN         CNN  \n",
       "2                                                NaN        NaN         ABC  \n",
       "3                                                NaN        NaN         NaN  \n",
       "4                                                NaN        NaN    NY Times  \n",
       "5                                                NaN        NaN       MSNBC  "
      ]
     },
     "execution_count": 4,
     "metadata": {},
     "output_type": "execute_result"
    }
   ],
   "source": [
    "Data_2017.head()"
   ]
  },
  {
   "cell_type": "code",
   "execution_count": 5,
   "metadata": {
    "collapsed": true
   },
   "outputs": [],
   "source": [
    "columns_to_drop = ['alternative name', 'story', 'interesting story', 'UNUSED' , 'UNUSED.1', 'Exclude', 'Unnamed: 13', '1st source link', '2nd source link', '3rd source', 'source name']\n",
    "Data_2017 = Data_2017[[col for col in Data_2017.columns if col not in columns_to_drop]]"
   ]
  },
  {
   "cell_type": "code",
   "execution_count": 6,
   "metadata": {},
   "outputs": [
    {
     "data": {
      "text/html": [
       "<div>\n",
       "<style>\n",
       "    .dataframe thead tr:only-child th {\n",
       "        text-align: right;\n",
       "    }\n",
       "\n",
       "    .dataframe thead th {\n",
       "        text-align: left;\n",
       "    }\n",
       "\n",
       "    .dataframe tbody tr th {\n",
       "        vertical-align: top;\n",
       "    }\n",
       "</style>\n",
       "<table border=\"1\" class=\"dataframe\">\n",
       "  <thead>\n",
       "    <tr style=\"text-align: right;\">\n",
       "      <th></th>\n",
       "      <th>Entity</th>\n",
       "      <th>YEAR</th>\n",
       "      <th>records lost</th>\n",
       "      <th>ORGANISATION</th>\n",
       "      <th>METHOD OF LEAK</th>\n",
       "      <th>NO OF RECORDS STOLEN</th>\n",
       "      <th>DATA SENSITIVITY</th>\n",
       "    </tr>\n",
       "  </thead>\n",
       "  <tbody>\n",
       "    <tr>\n",
       "      <th>1</th>\n",
       "      <td>AOL</td>\n",
       "      <td>2004</td>\n",
       "      <td>92000000.0</td>\n",
       "      <td>web</td>\n",
       "      <td>inside job</td>\n",
       "      <td>92000000</td>\n",
       "      <td>Just Email Addresses/Online Information</td>\n",
       "    </tr>\n",
       "    <tr>\n",
       "      <th>2</th>\n",
       "      <td>Automatic Data Processing</td>\n",
       "      <td>2005</td>\n",
       "      <td>125000.0</td>\n",
       "      <td>financial</td>\n",
       "      <td>poor security</td>\n",
       "      <td>130000</td>\n",
       "      <td>SSN/Personal Details</td>\n",
       "    </tr>\n",
       "    <tr>\n",
       "      <th>3</th>\n",
       "      <td>Ameritrade Inc.</td>\n",
       "      <td>2005</td>\n",
       "      <td>200000.0</td>\n",
       "      <td>financial</td>\n",
       "      <td>lost / stolen device</td>\n",
       "      <td>200000</td>\n",
       "      <td>SSN/Personal Details</td>\n",
       "    </tr>\n",
       "    <tr>\n",
       "      <th>4</th>\n",
       "      <td>Citigroup</td>\n",
       "      <td>2005</td>\n",
       "      <td>3900000.0</td>\n",
       "      <td>financial</td>\n",
       "      <td>lost / stolen device</td>\n",
       "      <td>3900000</td>\n",
       "      <td>Credit card Information</td>\n",
       "    </tr>\n",
       "    <tr>\n",
       "      <th>5</th>\n",
       "      <td>Cardsystems Solutions Inc.</td>\n",
       "      <td>2005</td>\n",
       "      <td>40000000.0</td>\n",
       "      <td>financial</td>\n",
       "      <td>hacked</td>\n",
       "      <td>40000000</td>\n",
       "      <td>Credit card Information</td>\n",
       "    </tr>\n",
       "  </tbody>\n",
       "</table>\n",
       "</div>"
      ],
      "text/plain": [
       "                        Entity  YEAR  records lost ORGANISATION  \\\n",
       "1                          AOL  2004    92000000.0          web   \n",
       "2    Automatic Data Processing  2005      125000.0    financial   \n",
       "3              Ameritrade Inc.  2005      200000.0    financial   \n",
       "4                    Citigroup  2005     3900000.0    financial   \n",
       "5  Cardsystems Solutions Inc.   2005    40000000.0    financial   \n",
       "\n",
       "         METHOD OF LEAK  NO OF RECORDS STOLEN  \\\n",
       "1            inside job              92000000   \n",
       "2         poor security                130000   \n",
       "3  lost / stolen device                200000   \n",
       "4  lost / stolen device               3900000   \n",
       "5                hacked              40000000   \n",
       "\n",
       "                          DATA SENSITIVITY  \n",
       "1  Just Email Addresses/Online Information  \n",
       "2                     SSN/Personal Details  \n",
       "3                     SSN/Personal Details  \n",
       "4                  Credit card Information  \n",
       "5                  Credit card Information  "
      ]
     },
     "execution_count": 6,
     "metadata": {},
     "output_type": "execute_result"
    }
   ],
   "source": [
    "Data_2017.head()\n"
   ]
  },
  {
   "cell_type": "code",
   "execution_count": 7,
   "metadata": {
    "collapsed": true
   },
   "outputs": [],
   "source": [
    "NullRows = Data_2017[Data_2017.isnull().any(axis=1)]"
   ]
  },
  {
   "cell_type": "code",
   "execution_count": 8,
   "metadata": {},
   "outputs": [
    {
     "data": {
      "text/html": [
       "<div>\n",
       "<style>\n",
       "    .dataframe thead tr:only-child th {\n",
       "        text-align: right;\n",
       "    }\n",
       "\n",
       "    .dataframe thead th {\n",
       "        text-align: left;\n",
       "    }\n",
       "\n",
       "    .dataframe tbody tr th {\n",
       "        vertical-align: top;\n",
       "    }\n",
       "</style>\n",
       "<table border=\"1\" class=\"dataframe\">\n",
       "  <thead>\n",
       "    <tr style=\"text-align: right;\">\n",
       "      <th></th>\n",
       "      <th>Entity</th>\n",
       "      <th>YEAR</th>\n",
       "      <th>records lost</th>\n",
       "      <th>ORGANISATION</th>\n",
       "      <th>METHOD OF LEAK</th>\n",
       "      <th>NO OF RECORDS STOLEN</th>\n",
       "      <th>DATA SENSITIVITY</th>\n",
       "    </tr>\n",
       "  </thead>\n",
       "  <tbody>\n",
       "    <tr>\n",
       "      <th>147</th>\n",
       "      <td>OVH</td>\n",
       "      <td>2013</td>\n",
       "      <td>NaN</td>\n",
       "      <td>web</td>\n",
       "      <td>hacked</td>\n",
       "      <td>500000</td>\n",
       "      <td>SSN/Personal Details</td>\n",
       "    </tr>\n",
       "    <tr>\n",
       "      <th>163</th>\n",
       "      <td>UbiSoft</td>\n",
       "      <td>2013</td>\n",
       "      <td>NaN</td>\n",
       "      <td>gaming</td>\n",
       "      <td>hacked</td>\n",
       "      <td>58000000</td>\n",
       "      <td>SSN/Personal Details</td>\n",
       "    </tr>\n",
       "  </tbody>\n",
       "</table>\n",
       "</div>"
      ],
      "text/plain": [
       "      Entity  YEAR  records lost ORGANISATION METHOD OF LEAK  \\\n",
       "147      OVH  2013           NaN          web         hacked   \n",
       "163  UbiSoft  2013           NaN       gaming         hacked   \n",
       "\n",
       "     NO OF RECORDS STOLEN      DATA SENSITIVITY  \n",
       "147                500000  SSN/Personal Details  \n",
       "163              58000000  SSN/Personal Details  "
      ]
     },
     "execution_count": 8,
     "metadata": {},
     "output_type": "execute_result"
    }
   ],
   "source": [
    "NullRows"
   ]
  },
  {
   "cell_type": "code",
   "execution_count": 9,
   "metadata": {
    "collapsed": true
   },
   "outputs": [],
   "source": [
    "Data_2017['records lost'] = Data_2017['records lost'].fillna(value=Data_2017['NO OF RECORDS STOLEN'])"
   ]
  },
  {
   "cell_type": "code",
   "execution_count": 10,
   "metadata": {
    "collapsed": true
   },
   "outputs": [],
   "source": [
    "del Data_2017['NO OF RECORDS STOLEN']"
   ]
  },
  {
   "cell_type": "code",
   "execution_count": 11,
   "metadata": {
    "collapsed": true
   },
   "outputs": [],
   "source": [
    "Data_2017.drop(Data_2017.index[:1], inplace=True)\n"
   ]
  },
  {
   "cell_type": "code",
   "execution_count": 12,
   "metadata": {
    "collapsed": true
   },
   "outputs": [],
   "source": [
    "Data_2017.loc[Data_2017['YEAR'] == 0, 'YEAR'] = 2004\n",
    "Data_2017.loc[Data_2017['YEAR'] == 1, 'YEAR'] = 2005\n",
    "Data_2017.loc[Data_2017['YEAR'] == 2, 'YEAR'] = 2006\n",
    "Data_2017.loc[Data_2017['YEAR'] == 3, 'YEAR'] = 2007\n",
    "Data_2017.loc[Data_2017['YEAR'] == 4, 'YEAR'] = 2008\n",
    "Data_2017.loc[Data_2017['YEAR'] == 5, 'YEAR'] = 2009\n",
    "Data_2017.loc[Data_2017['YEAR'] == 6, 'YEAR'] = 2010\n",
    "Data_2017.loc[Data_2017['YEAR'] == 7, 'YEAR'] = 2011\n",
    "Data_2017.loc[Data_2017['YEAR'] == 8, 'YEAR'] = 2012\n",
    "Data_2017.loc[Data_2017['YEAR'] == 9, 'YEAR'] = 2013\n",
    "Data_2017.loc[Data_2017['YEAR'] == 10, 'YEAR'] = 2014\n",
    "Data_2017.loc[Data_2017['YEAR'] == 11, 'YEAR'] = 2015\n",
    "Data_2017.loc[Data_2017['YEAR'] == 12, 'YEAR'] = 2016\n",
    "Data_2017.loc[Data_2017['YEAR'] == 13, 'YEAR'] = 2017\n",
    "Data_2017.loc[Data_2017['YEAR'] == 14, 'YEAR'] = 2017"
   ]
  },
  {
   "cell_type": "code",
   "execution_count": 13,
   "metadata": {
    "collapsed": true
   },
   "outputs": [],
   "source": [
    "Data_2017.loc[Data_2017['DATA SENSITIVITY'] == 1, 'DATA SENSITIVITY'] = 'Just email address/Online information'\n",
    "Data_2017.loc[Data_2017['DATA SENSITIVITY'] == 20, 'DATA SENSITIVITY'] = 'SSN/Personal details'\n",
    "Data_2017.loc[Data_2017['DATA SENSITIVITY'] == 300, 'DATA SENSITIVITY'] = 'Credit card information'\n",
    "Data_2017.loc[Data_2017['DATA SENSITIVITY'] == 4000, 'DATA SENSITIVITY'] = 'Email password/Health records'\n",
    "Data_2017.loc[Data_2017['DATA SENSITIVITY'] == 50000, 'DATA SENSITIVITY'] = 'Full bank account details'\n",
    "Data_2017.loc[Data_2017['DATA SENSITIVITY'] == '20', 'DATA SENSITIVITY'] = 'SSN/Personal details'\n",
    "Data_2017.loc[Data_2017['DATA SENSITIVITY'] == '300', 'DATA SENSITIVITY'] = 'Credit card information'\n",
    "Data_2017.loc[Data_2017['DATA SENSITIVITY'] == 3, 'DATA SENSITIVITY'] = 'Credit card information'"
   ]
  },
  {
   "cell_type": "code",
   "execution_count": 14,
   "metadata": {
    "collapsed": true
   },
   "outputs": [],
   "source": [
    "Data_2017.to_csv('Data_Lab2.csv', index=False, encoding='utf-8')"
   ]
  },
  {
   "cell_type": "code",
   "execution_count": null,
   "metadata": {
    "collapsed": true
   },
   "outputs": [],
   "source": []
  }
 ],
 "metadata": {
  "kernelspec": {
   "display_name": "Python 2",
   "language": "python",
   "name": "python2"
  },
  "language_info": {
   "codemirror_mode": {
    "name": "ipython",
    "version": 2
   },
   "file_extension": ".py",
   "mimetype": "text/x-python",
   "name": "python",
   "nbconvert_exporter": "python",
   "pygments_lexer": "ipython2",
   "version": "2.7.13"
  }
 },
 "nbformat": 4,
 "nbformat_minor": 2
}
